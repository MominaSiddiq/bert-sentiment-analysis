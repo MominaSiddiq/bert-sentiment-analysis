{
  "nbformat": 4,
  "nbformat_minor": 0,
  "metadata": {
    "colab": {
      "provenance": [],
      "toc_visible": true,
      "gpuType": "T4",
      "include_colab_link": true
    },
    "kernelspec": {
      "name": "python3",
      "display_name": "Python 3"
    },
    "language_info": {
      "name": "python"
    },
    "accelerator": "GPU"
  },
  "cells": [
    {
      "cell_type": "markdown",
      "metadata": {
        "id": "view-in-github",
        "colab_type": "text"
      },
      "source": [
        "<a href=\"https://colab.research.google.com/github/MominaSiddiq/bert-sentiment-analysis/blob/main/Bert_sentiment_analysis.ipynb\" target=\"_parent\"><img src=\"https://colab.research.google.com/assets/colab-badge.svg\" alt=\"Open In Colab\"/></a>"
      ]
    },
    {
      "cell_type": "markdown",
      "source": [
        "# Setup Instructions\n",
        "\n",
        "This notebook installs compatible versions of required libraries and then automatically restarts the runtime.\n",
        "\n",
        "✅ Please **run the first code cell**, wait for restart, then **continue running all other cells from top to bottom**.\n"
      ],
      "metadata": {
        "id": "FWCn4GEdgzWy"
      }
    },
    {
      "cell_type": "code",
      "source": [
        "# INSTALL DEPENDENCIES\n",
        "!pip install -q transformers==4.53.0 datasets accelerate fsspec==2023.6.0\n",
        "!pip install numpy==1.26.4 --force-reinstall\n",
        "\n",
        "# FORCE RESTART\n",
        "import IPython\n",
        "print(\"✅ Installations complete. Please click 'Runtime > Restart Runtime' before running the next cells.\")\n",
        "IPython.Application.instance().kernel.do_shutdown(True)\n"
      ],
      "metadata": {
        "id": "C0OJTFRSO7Lj"
      },
      "execution_count": null,
      "outputs": []
    },
    {
      "cell_type": "markdown",
      "source": [
        "# Imports\n"
      ],
      "metadata": {
        "id": "a_HwIXrKUWQv"
      }
    },
    {
      "cell_type": "code",
      "source": [
        "# ✅ IMPORTS — run this after runtime restart\n",
        "# Import essential libraries for working with transformers and datasets\n",
        "from datasets import load_dataset                    # For loading the IMDb dataset\n",
        "from transformers import (BertTokenizer,             # Tokenizer for BERT\n",
        "                          BertForSequenceClassification,  # Pretrained BERT model for sentiment classification\n",
        "                          Trainer,                   # Trainer handles the training loop\n",
        "                          TrainingArguments)         # Used to define training configurations\n",
        "import torch                                          # PyTorch backend\n",
        "import numpy as np\n",
        "from random import randint, sample\n",
        "import matplotlib.pyplot as plt\n",
        "from sklearn.metrics import (accuracy_score,\n",
        "                             precision_recall_fscore_support,\n",
        "                             ConfusionMatrixDisplay,\n",
        "                             confusion_matrix,\n",
        "                             precision_score,\n",
        "                             recall_score,\n",
        "                             f1_score)\n"
      ],
      "metadata": {
        "id": "l8qt-M-RUGLn"
      },
      "execution_count": 1,
      "outputs": []
    },
    {
      "cell_type": "code",
      "source": [
        "import transformers\n",
        "print(transformers.__version__)\n",
        "print(transformers.TrainingArguments.__init__.__code__.co_varnames)\n"
      ],
      "metadata": {
        "colab": {
          "base_uri": "https://localhost:8080/"
        },
        "id": "bFykgGc_U3Jv",
        "outputId": "4480c1cb-7dd7-467a-ddea-7c328438d220"
      },
      "execution_count": 2,
      "outputs": [
        {
          "output_type": "stream",
          "name": "stdout",
          "text": [
            "4.53.0\n",
            "('self', 'output_dir', 'overwrite_output_dir', 'do_train', 'do_eval', 'do_predict', 'eval_strategy', 'prediction_loss_only', 'per_device_train_batch_size', 'per_device_eval_batch_size', 'per_gpu_train_batch_size', 'per_gpu_eval_batch_size', 'gradient_accumulation_steps', 'eval_accumulation_steps', 'eval_delay', 'torch_empty_cache_steps', 'learning_rate', 'weight_decay', 'adam_beta1', 'adam_beta2', 'adam_epsilon', 'max_grad_norm', 'num_train_epochs', 'max_steps', 'lr_scheduler_type', 'lr_scheduler_kwargs', 'warmup_ratio', 'warmup_steps', 'log_level', 'log_level_replica', 'log_on_each_node', 'logging_dir', 'logging_strategy', 'logging_first_step', 'logging_steps', 'logging_nan_inf_filter', 'save_strategy', 'save_steps', 'save_total_limit', 'save_safetensors', 'save_on_each_node', 'save_only_model', 'restore_callback_states_from_checkpoint', 'no_cuda', 'use_cpu', 'use_mps_device', 'seed', 'data_seed', 'jit_mode_eval', 'use_ipex', 'bf16', 'fp16', 'fp16_opt_level', 'half_precision_backend', 'bf16_full_eval', 'fp16_full_eval', 'tf32', 'local_rank', 'ddp_backend', 'tpu_num_cores', 'tpu_metrics_debug', 'debug', 'dataloader_drop_last', 'eval_steps', 'dataloader_num_workers', 'dataloader_prefetch_factor', 'past_index', 'run_name', 'disable_tqdm', 'remove_unused_columns', 'label_names', 'load_best_model_at_end', 'metric_for_best_model', 'greater_is_better', 'ignore_data_skip', 'fsdp', 'fsdp_min_num_params', 'fsdp_config', 'fsdp_transformer_layer_cls_to_wrap', 'accelerator_config', 'deepspeed', 'label_smoothing_factor', 'optim', 'optim_args', 'adafactor', 'group_by_length', 'length_column_name', 'report_to', 'ddp_find_unused_parameters', 'ddp_bucket_cap_mb', 'ddp_broadcast_buffers', 'dataloader_pin_memory', 'dataloader_persistent_workers', 'skip_memory_metrics', 'use_legacy_prediction_loop', 'push_to_hub', 'resume_from_checkpoint', 'hub_model_id', 'hub_strategy', 'hub_token', 'hub_private_repo', 'hub_always_push', 'hub_revision', 'gradient_checkpointing', 'gradient_checkpointing_kwargs', 'include_inputs_for_metrics', 'include_for_metrics', 'eval_do_concat_batches', 'fp16_backend', 'push_to_hub_model_id', 'push_to_hub_organization', 'push_to_hub_token', 'mp_parameters', 'auto_find_batch_size', 'full_determinism', 'torchdynamo', 'ray_scope', 'ddp_timeout', 'torch_compile', 'torch_compile_backend', 'torch_compile_mode', 'include_tokens_per_second', 'include_num_input_tokens_seen', 'neftune_noise_alpha', 'optim_target_modules', 'batch_eval_metrics', 'eval_on_start', 'use_liger_kernel', 'liger_kernel_config', 'eval_use_gather_object', 'average_tokens_across_devices')\n"
          ]
        }
      ]
    },
    {
      "cell_type": "markdown",
      "source": [
        "# Load IMDb Dataset\n",
        "\n",
        "I use the IMDb movie reviews dataset available through Hugging Face's datasets library.\n",
        "This dataset contains 25,000 labeled movie reviews for training and 25,000 for testing. Each review is labeled with a binary sentiment:\n",
        "\n",
        "0 = negative\n",
        "\n",
        "1 = positive\n",
        "\n",
        "This dataset is commonly used to benchmark NLP models, particularly for binary text classification tasks.\n"
      ],
      "metadata": {
        "id": "2tP9HrFBUdwL"
      }
    },
    {
      "cell_type": "code",
      "source": [
        "# Load the IMDb dataset from Hugging Face\n",
        "# The dataset contains 25,000 training and 25,000 test examples\n",
        "dataset = load_dataset(\"imdb\")\n",
        "\n",
        "# Display the dataset structure\n",
        "print(dataset)\n"
      ],
      "metadata": {
        "id": "XfmtALKzUzlU"
      },
      "execution_count": null,
      "outputs": []
    },
    {
      "cell_type": "markdown",
      "source": [
        "## Printed Sample\n",
        "\n",
        "Below, a positive and a negative example from the dataset is printed to better understand the data.\n"
      ],
      "metadata": {
        "id": "GGnh7_irY9Z7"
      }
    },
    {
      "cell_type": "code",
      "source": [
        "# Print one sample negative and one positive review from the dataset\n",
        "for example in dataset['train']:\n",
        "    if example['label'] == 0:\n",
        "        print(\"Sample Negative Review:\\n\")\n",
        "        print(example['text'][:300])\n",
        "        print(\"Label: 0 (Negative)\")\n",
        "        break\n",
        "\n",
        "for example in dataset['train']:\n",
        "    if example['label'] == 1:\n",
        "        print(\"\\nSample Positive Review:\\n\")\n",
        "        print(example['text'][:300])\n",
        "        print(\"Label: 1 (Positive)\")\n",
        "        break\n"
      ],
      "metadata": {
        "id": "mbuHGruEZJZ6",
        "colab": {
          "base_uri": "https://localhost:8080/"
        },
        "outputId": "67d7752f-e71e-40be-8604-c0bdec662d06"
      },
      "execution_count": 4,
      "outputs": [
        {
          "output_type": "stream",
          "name": "stdout",
          "text": [
            "Sample Negative Review:\n",
            "\n",
            "I rented I AM CURIOUS-YELLOW from my video store because of all the controversy that surrounded it when it was first released in 1967. I also heard that at first it was seized by U.S. customs if it ever tried to enter this country, therefore being a fan of films considered \"controversial\" I really h\n",
            "Label: 0 (Negative)\n",
            "\n",
            "Sample Positive Review:\n",
            "\n",
            "Zentropa has much in common with The Third Man, another noir-like film set among the rubble of postwar Europe. Like TTM, there is much inventive camera work. There is an innocent American who gets emotionally involved with a woman he doesn't really understand, and whose naivety is all the more strik\n",
            "Label: 1 (Positive)\n"
          ]
        }
      ]
    },
    {
      "cell_type": "markdown",
      "source": [
        "# Preparing Input for a BERT-based LLM\n",
        "\n",
        "To fine-tune a Large Language Model (LLM) like BERT, I must first preprocess the raw text data.\n",
        "Use the BertTokenizer from Hugging Face to:\n",
        "\n",
        "* Convert text to input token IDs.\n",
        "* Add special tokens ([CLS], [SEP]).\n",
        "* Truncate or pad reviews to a fixed maximum length.\n",
        "* Generate attention masks indicating which tokens are padding.\n",
        "\n",
        "This prepares the input format expected by BERT.\n"
      ],
      "metadata": {
        "id": "Y-dXkWR_Apsb"
      }
    },
    {
      "cell_type": "markdown",
      "source": [
        "## Load BERT Tokenizer"
      ],
      "metadata": {
        "id": "VnTxn7CnBSa7"
      }
    },
    {
      "cell_type": "code",
      "source": [
        "# Load the pretrained BERT tokenizer (base uncased model)\n",
        "tokenizer = BertTokenizer.from_pretrained(\"bert-base-uncased\")\n"
      ],
      "metadata": {
        "id": "zZwTNI13BKxm"
      },
      "execution_count": null,
      "outputs": []
    },
    {
      "cell_type": "markdown",
      "source": [
        "## Define a Tokenization Function"
      ],
      "metadata": {
        "id": "49QMyd8gCecT"
      }
    },
    {
      "cell_type": "code",
      "source": [
        "# Define a function that will tokenize the text data\n",
        "def tokenize_function(example):\n",
        "    return tokenizer(\n",
        "        example[\"text\"],\n",
        "        padding=\"max_length\",       # pad all sequences to max_length\n",
        "        truncation=True,            # truncate reviews longer than max_length\n",
        "        max_length=512              # BERT supports max 512 tokens\n",
        "    )\n"
      ],
      "metadata": {
        "id": "sIO3YVecCmAV"
      },
      "execution_count": 6,
      "outputs": []
    },
    {
      "cell_type": "markdown",
      "source": [
        "## Apply Tokenization to the Dataset"
      ],
      "metadata": {
        "id": "86XNkrpvCpnY"
      }
    },
    {
      "cell_type": "code",
      "source": [
        "# Apply tokenization to the entire dataset\n",
        "# This creates new fields: input_ids, token_type_ids, attention_mask\n",
        "tokenized_datasets = dataset.map(tokenize_function, batched=True)\n"
      ],
      "metadata": {
        "id": "uyAMo8lSCtVl"
      },
      "execution_count": null,
      "outputs": []
    },
    {
      "cell_type": "markdown",
      "source": [
        "## Remove Unused Columns"
      ],
      "metadata": {
        "id": "NhEzKlu_FFK0"
      }
    },
    {
      "cell_type": "code",
      "source": [
        "# Remove the original text column to keep only tokenized inputs\n",
        "tokenized_datasets = tokenized_datasets.remove_columns([\"text\"])\n"
      ],
      "metadata": {
        "id": "IOeZoY-lFJ-p"
      },
      "execution_count": 8,
      "outputs": []
    },
    {
      "cell_type": "markdown",
      "source": [
        "## Set Format for PyTorch"
      ],
      "metadata": {
        "id": "DMM8onkKFNrr"
      }
    },
    {
      "cell_type": "code",
      "source": [
        "# Set the dataset format for PyTorch (input_ids, attention_mask, labels)\n",
        "tokenized_datasets.set_format(\"torch\")\n"
      ],
      "metadata": {
        "id": "Cdv-73EpFRln"
      },
      "execution_count": 9,
      "outputs": []
    },
    {
      "cell_type": "markdown",
      "source": [
        "## Debug Check"
      ],
      "metadata": {
        "id": "fGxLq-tKFUjO"
      }
    },
    {
      "cell_type": "code",
      "source": [
        "# Preview one tokenized example\n",
        "# Temporarily remove formatting to preview\n",
        "tokenized_datasets.reset_format()\n",
        "print(tokenized_datasets[\"train\"][0])"
      ],
      "metadata": {
        "id": "RG0cqJ14FZPd",
        "colab": {
          "base_uri": "https://localhost:8080/"
        },
        "outputId": "a8ee1d8f-351e-46d0-bb7b-b7fe87d230ad"
      },
      "execution_count": 10,
      "outputs": [
        {
          "output_type": "stream",
          "name": "stdout",
          "text": [
            "{'label': 0, 'input_ids': [101, 1045, 12524, 1045, 2572, 8025, 1011, 3756, 2013, 2026, 2678, 3573, 2138, 1997, 2035, 1996, 6704, 2008, 5129, 2009, 2043, 2009, 2001, 2034, 2207, 1999, 3476, 1012, 1045, 2036, 2657, 2008, 2012, 2034, 2009, 2001, 8243, 2011, 1057, 1012, 1055, 1012, 8205, 2065, 2009, 2412, 2699, 2000, 4607, 2023, 2406, 1010, 3568, 2108, 1037, 5470, 1997, 3152, 2641, 1000, 6801, 1000, 1045, 2428, 2018, 2000, 2156, 2023, 2005, 2870, 1012, 1026, 7987, 1013, 1028, 1026, 7987, 1013, 1028, 1996, 5436, 2003, 8857, 2105, 1037, 2402, 4467, 3689, 3076, 2315, 14229, 2040, 4122, 2000, 4553, 2673, 2016, 2064, 2055, 2166, 1012, 1999, 3327, 2016, 4122, 2000, 3579, 2014, 3086, 2015, 2000, 2437, 2070, 4066, 1997, 4516, 2006, 2054, 1996, 2779, 25430, 14728, 2245, 2055, 3056, 2576, 3314, 2107, 2004, 1996, 5148, 2162, 1998, 2679, 3314, 1999, 1996, 2142, 2163, 1012, 1999, 2090, 4851, 8801, 1998, 6623, 7939, 4697, 3619, 1997, 8947, 2055, 2037, 10740, 2006, 4331, 1010, 2016, 2038, 3348, 2007, 2014, 3689, 3836, 1010, 19846, 1010, 1998, 2496, 2273, 1012, 1026, 7987, 1013, 1028, 1026, 7987, 1013, 1028, 2054, 8563, 2033, 2055, 1045, 2572, 8025, 1011, 3756, 2003, 2008, 2871, 2086, 3283, 1010, 2023, 2001, 2641, 26932, 1012, 2428, 1010, 1996, 3348, 1998, 16371, 25469, 5019, 2024, 2261, 1998, 2521, 2090, 1010, 2130, 2059, 2009, 1005, 1055, 2025, 2915, 2066, 2070, 10036, 2135, 2081, 22555, 2080, 1012, 2096, 2026, 2406, 3549, 2568, 2424, 2009, 16880, 1010, 1999, 4507, 3348, 1998, 16371, 25469, 2024, 1037, 2350, 18785, 1999, 4467, 5988, 1012, 2130, 13749, 7849, 24544, 1010, 15835, 2037, 3437, 2000, 2204, 2214, 2879, 2198, 4811, 1010, 2018, 3348, 5019, 1999, 2010, 3152, 1012, 1026, 7987, 1013, 1028, 1026, 7987, 1013, 1028, 1045, 2079, 4012, 3549, 2094, 1996, 16587, 2005, 1996, 2755, 2008, 2151, 3348, 3491, 1999, 1996, 2143, 2003, 3491, 2005, 6018, 5682, 2738, 2084, 2074, 2000, 5213, 2111, 1998, 2191, 2769, 2000, 2022, 3491, 1999, 26932, 12370, 1999, 2637, 1012, 1045, 2572, 8025, 1011, 3756, 2003, 1037, 2204, 2143, 2005, 3087, 5782, 2000, 2817, 1996, 6240, 1998, 14629, 1006, 2053, 26136, 3832, 1007, 1997, 4467, 5988, 1012, 2021, 2428, 1010, 2023, 2143, 2987, 1005, 1056, 2031, 2172, 1997, 1037, 5436, 1012, 102, 0, 0, 0, 0, 0, 0, 0, 0, 0, 0, 0, 0, 0, 0, 0, 0, 0, 0, 0, 0, 0, 0, 0, 0, 0, 0, 0, 0, 0, 0, 0, 0, 0, 0, 0, 0, 0, 0, 0, 0, 0, 0, 0, 0, 0, 0, 0, 0, 0, 0, 0, 0, 0, 0, 0, 0, 0, 0, 0, 0, 0, 0, 0, 0, 0, 0, 0, 0, 0, 0, 0, 0, 0, 0, 0, 0, 0, 0, 0, 0, 0, 0, 0, 0, 0, 0, 0, 0, 0, 0, 0, 0, 0, 0, 0, 0, 0, 0, 0, 0, 0, 0, 0, 0, 0, 0, 0, 0, 0, 0, 0, 0, 0, 0, 0, 0, 0, 0, 0, 0, 0, 0, 0, 0, 0, 0, 0, 0, 0, 0, 0, 0, 0, 0, 0, 0, 0, 0, 0, 0, 0, 0, 0, 0, 0, 0, 0, 0, 0], 'token_type_ids': [0, 0, 0, 0, 0, 0, 0, 0, 0, 0, 0, 0, 0, 0, 0, 0, 0, 0, 0, 0, 0, 0, 0, 0, 0, 0, 0, 0, 0, 0, 0, 0, 0, 0, 0, 0, 0, 0, 0, 0, 0, 0, 0, 0, 0, 0, 0, 0, 0, 0, 0, 0, 0, 0, 0, 0, 0, 0, 0, 0, 0, 0, 0, 0, 0, 0, 0, 0, 0, 0, 0, 0, 0, 0, 0, 0, 0, 0, 0, 0, 0, 0, 0, 0, 0, 0, 0, 0, 0, 0, 0, 0, 0, 0, 0, 0, 0, 0, 0, 0, 0, 0, 0, 0, 0, 0, 0, 0, 0, 0, 0, 0, 0, 0, 0, 0, 0, 0, 0, 0, 0, 0, 0, 0, 0, 0, 0, 0, 0, 0, 0, 0, 0, 0, 0, 0, 0, 0, 0, 0, 0, 0, 0, 0, 0, 0, 0, 0, 0, 0, 0, 0, 0, 0, 0, 0, 0, 0, 0, 0, 0, 0, 0, 0, 0, 0, 0, 0, 0, 0, 0, 0, 0, 0, 0, 0, 0, 0, 0, 0, 0, 0, 0, 0, 0, 0, 0, 0, 0, 0, 0, 0, 0, 0, 0, 0, 0, 0, 0, 0, 0, 0, 0, 0, 0, 0, 0, 0, 0, 0, 0, 0, 0, 0, 0, 0, 0, 0, 0, 0, 0, 0, 0, 0, 0, 0, 0, 0, 0, 0, 0, 0, 0, 0, 0, 0, 0, 0, 0, 0, 0, 0, 0, 0, 0, 0, 0, 0, 0, 0, 0, 0, 0, 0, 0, 0, 0, 0, 0, 0, 0, 0, 0, 0, 0, 0, 0, 0, 0, 0, 0, 0, 0, 0, 0, 0, 0, 0, 0, 0, 0, 0, 0, 0, 0, 0, 0, 0, 0, 0, 0, 0, 0, 0, 0, 0, 0, 0, 0, 0, 0, 0, 0, 0, 0, 0, 0, 0, 0, 0, 0, 0, 0, 0, 0, 0, 0, 0, 0, 0, 0, 0, 0, 0, 0, 0, 0, 0, 0, 0, 0, 0, 0, 0, 0, 0, 0, 0, 0, 0, 0, 0, 0, 0, 0, 0, 0, 0, 0, 0, 0, 0, 0, 0, 0, 0, 0, 0, 0, 0, 0, 0, 0, 0, 0, 0, 0, 0, 0, 0, 0, 0, 0, 0, 0, 0, 0, 0, 0, 0, 0, 0, 0, 0, 0, 0, 0, 0, 0, 0, 0, 0, 0, 0, 0, 0, 0, 0, 0, 0, 0, 0, 0, 0, 0, 0, 0, 0, 0, 0, 0, 0, 0, 0, 0, 0, 0, 0, 0, 0, 0, 0, 0, 0, 0, 0, 0, 0, 0, 0, 0, 0, 0, 0, 0, 0, 0, 0, 0, 0, 0, 0, 0, 0, 0, 0, 0, 0, 0, 0, 0, 0, 0, 0, 0, 0, 0, 0, 0, 0, 0, 0, 0, 0, 0, 0, 0, 0, 0, 0, 0, 0, 0, 0, 0, 0, 0, 0, 0, 0, 0, 0, 0, 0, 0, 0, 0, 0, 0, 0, 0, 0, 0, 0, 0, 0, 0, 0, 0, 0, 0, 0, 0, 0, 0, 0, 0, 0, 0, 0, 0, 0], 'attention_mask': [1, 1, 1, 1, 1, 1, 1, 1, 1, 1, 1, 1, 1, 1, 1, 1, 1, 1, 1, 1, 1, 1, 1, 1, 1, 1, 1, 1, 1, 1, 1, 1, 1, 1, 1, 1, 1, 1, 1, 1, 1, 1, 1, 1, 1, 1, 1, 1, 1, 1, 1, 1, 1, 1, 1, 1, 1, 1, 1, 1, 1, 1, 1, 1, 1, 1, 1, 1, 1, 1, 1, 1, 1, 1, 1, 1, 1, 1, 1, 1, 1, 1, 1, 1, 1, 1, 1, 1, 1, 1, 1, 1, 1, 1, 1, 1, 1, 1, 1, 1, 1, 1, 1, 1, 1, 1, 1, 1, 1, 1, 1, 1, 1, 1, 1, 1, 1, 1, 1, 1, 1, 1, 1, 1, 1, 1, 1, 1, 1, 1, 1, 1, 1, 1, 1, 1, 1, 1, 1, 1, 1, 1, 1, 1, 1, 1, 1, 1, 1, 1, 1, 1, 1, 1, 1, 1, 1, 1, 1, 1, 1, 1, 1, 1, 1, 1, 1, 1, 1, 1, 1, 1, 1, 1, 1, 1, 1, 1, 1, 1, 1, 1, 1, 1, 1, 1, 1, 1, 1, 1, 1, 1, 1, 1, 1, 1, 1, 1, 1, 1, 1, 1, 1, 1, 1, 1, 1, 1, 1, 1, 1, 1, 1, 1, 1, 1, 1, 1, 1, 1, 1, 1, 1, 1, 1, 1, 1, 1, 1, 1, 1, 1, 1, 1, 1, 1, 1, 1, 1, 1, 1, 1, 1, 1, 1, 1, 1, 1, 1, 1, 1, 1, 1, 1, 1, 1, 1, 1, 1, 1, 1, 1, 1, 1, 1, 1, 1, 1, 1, 1, 1, 1, 1, 1, 1, 1, 1, 1, 1, 1, 1, 1, 1, 1, 1, 1, 1, 1, 1, 1, 1, 1, 1, 1, 1, 1, 1, 1, 1, 1, 1, 1, 1, 1, 1, 1, 1, 1, 1, 1, 1, 1, 1, 1, 1, 1, 1, 1, 1, 1, 1, 1, 1, 1, 1, 1, 1, 1, 1, 1, 1, 1, 1, 1, 1, 1, 1, 1, 1, 1, 1, 1, 1, 1, 1, 1, 1, 1, 1, 1, 1, 1, 1, 1, 1, 1, 1, 1, 1, 1, 1, 1, 1, 0, 0, 0, 0, 0, 0, 0, 0, 0, 0, 0, 0, 0, 0, 0, 0, 0, 0, 0, 0, 0, 0, 0, 0, 0, 0, 0, 0, 0, 0, 0, 0, 0, 0, 0, 0, 0, 0, 0, 0, 0, 0, 0, 0, 0, 0, 0, 0, 0, 0, 0, 0, 0, 0, 0, 0, 0, 0, 0, 0, 0, 0, 0, 0, 0, 0, 0, 0, 0, 0, 0, 0, 0, 0, 0, 0, 0, 0, 0, 0, 0, 0, 0, 0, 0, 0, 0, 0, 0, 0, 0, 0, 0, 0, 0, 0, 0, 0, 0, 0, 0, 0, 0, 0, 0, 0, 0, 0, 0, 0, 0, 0, 0, 0, 0, 0, 0, 0, 0, 0, 0, 0, 0, 0, 0, 0, 0, 0, 0, 0, 0, 0, 0, 0, 0, 0, 0, 0, 0, 0, 0, 0, 0, 0, 0, 0, 0, 0, 0]}\n"
          ]
        }
      ]
    },
    {
      "cell_type": "code",
      "source": [
        "# Set it back to torch format\n",
        "tokenized_datasets.set_format(\"torch\")\n"
      ],
      "metadata": {
        "id": "KSG5bRf5Ggz8"
      },
      "execution_count": 11,
      "outputs": []
    },
    {
      "cell_type": "markdown",
      "source": [
        "# Fine-Tuning a BERT Transformer Model (LLM)\n",
        "\n",
        "I fine-tune the BERT-base (uncased) transformer model from Hugging Face for a binary sentiment classification task.\n",
        "\n",
        "Key steps:\n",
        "\n",
        "* Load the BertForSequenceClassification model pre-trained on general corpora.\n",
        "* Fine-tune it using Hugging Face’s Trainer API.\n",
        "\n",
        "Define training arguments such as:\n",
        "* Learning rate\n",
        "* Number of epochs\n",
        "* Batch size\n",
        "* Evaluation and checkpointing strategy\n",
        "\n",
        "This process adapts the general-purpose LLM (BERT) to the specific downstream task: sentiment classification on IMDb.\n"
      ],
      "metadata": {
        "id": "eD2pKDrwIWnO"
      }
    },
    {
      "cell_type": "markdown",
      "source": [
        "## Load the BERT Model"
      ],
      "metadata": {
        "id": "yOZ3Jlp8I-67"
      }
    },
    {
      "cell_type": "code",
      "source": [
        "# Load a pretrained BERT model for sequence classification with two labels\n",
        "model = BertForSequenceClassification.from_pretrained(\"bert-base-uncased\", num_labels=2)\n"
      ],
      "metadata": {
        "id": "dgtE8kf7Is4_"
      },
      "execution_count": null,
      "outputs": []
    },
    {
      "cell_type": "markdown",
      "source": [
        "## Define Metrics Function\n"
      ],
      "metadata": {
        "id": "M8OCby7EuhiU"
      }
    },
    {
      "cell_type": "code",
      "source": [
        "# Define the compute metrics function\n",
        "def compute_metrics(pred):\n",
        "    labels = pred.label_ids\n",
        "    preds = np.argmax(pred.predictions, axis=1)\n",
        "    precision, recall, f1, _ = precision_recall_fscore_support(labels, preds, average='binary')\n",
        "    acc = accuracy_score(labels, preds)\n",
        "    return {\n",
        "        'accuracy': acc,\n",
        "        'f1': f1,\n",
        "        'precision': precision,\n",
        "        'recall': recall\n",
        "    }\n"
      ],
      "metadata": {
        "id": "S6zK-EvnufJB"
      },
      "execution_count": 13,
      "outputs": []
    },
    {
      "cell_type": "markdown",
      "source": [
        "## Define Training Arguments"
      ],
      "metadata": {
        "id": "-bCGhGq7JNQ8"
      }
    },
    {
      "cell_type": "code",
      "source": [
        "# Define training parameters\n",
        "training_args = TrainingArguments(\n",
        "    output_dir=\"./results\",              # Save checkpoints here\n",
        "    save_strategy=\"epoch\",               # Save model each epoch\n",
        "    logging_dir=\"./logs\",                # Directory for logs\n",
        "    logging_steps=10,                    # Log every 10 steps\n",
        "    per_device_train_batch_size=8,       # Training batch size\n",
        "    per_device_eval_batch_size=8,        # Evaluation batch size\n",
        "    num_train_epochs=2,                  # Number of epochs\n",
        "    learning_rate=2e-5,                  # Learning rate\n",
        "    weight_decay=0.01,                   # Weight decay to avoid overfitting\n",
        "    load_best_model_at_end=True,         # Load best model after training\n",
        "    eval_strategy=\"epoch\",               # Evaluate every epoch\n",
        "    metric_for_best_model=\"f1\",          # Use F1 to choose best model\n",
        "    greater_is_better=True,              # Higher F1 is better\n",
        "    report_to=\"none\"                     # Disable W&B integration\n",
        ")"
      ],
      "metadata": {
        "id": "nrMI6YQqJQQ0"
      },
      "execution_count": 14,
      "outputs": []
    },
    {
      "cell_type": "markdown",
      "source": [
        "## Split Dataset for Training/Evaluation"
      ],
      "metadata": {
        "id": "79N1kHRNxGh_"
      }
    },
    {
      "cell_type": "code",
      "source": [
        "# Split the dataset into training and validation sets (e.g., 90% train, 10% eval)\n",
        "split_datasets = tokenized_datasets[\"train\"].train_test_split(test_size=0.1)\n",
        "\n",
        "# Assign to train and eval datasets\n",
        "train_dataset = split_datasets[\"train\"]\n",
        "eval_dataset = split_datasets[\"test\"]\n",
        "\n",
        "# Set dataset format to PyTorch to avoid NumPy Arrow error\n",
        "train_dataset.set_format(\"torch\")\n",
        "eval_dataset.set_format(\"torch\")\n",
        "\n",
        "# Print dataset sizes\n",
        "print(f\"Training samples: {len(train_dataset)}\")\n",
        "print(f\"Evaluation samples: {len(eval_dataset)}\")\n"
      ],
      "metadata": {
        "colab": {
          "base_uri": "https://localhost:8080/"
        },
        "id": "5bbSKcc8xIgx",
        "outputId": "ba41d621-5dff-44ab-ea03-6da2c014a5d3"
      },
      "execution_count": 15,
      "outputs": [
        {
          "output_type": "stream",
          "name": "stdout",
          "text": [
            "Training samples: 22500\n",
            "Evaluation samples: 2500\n"
          ]
        }
      ]
    },
    {
      "cell_type": "markdown",
      "source": [
        "## Create the Trainer"
      ],
      "metadata": {
        "id": "r5YLFQrjxww2"
      }
    },
    {
      "cell_type": "code",
      "source": [
        "# Create Trainer\n",
        "trainer = Trainer(\n",
        "    model=model,\n",
        "    args=training_args,\n",
        "    train_dataset=train_dataset,\n",
        "    eval_dataset=eval_dataset,\n",
        "    compute_metrics=compute_metrics\n",
        ")\n"
      ],
      "metadata": {
        "id": "LSYnJmXax03k"
      },
      "execution_count": 16,
      "outputs": []
    },
    {
      "cell_type": "markdown",
      "source": [
        "## Train the Model"
      ],
      "metadata": {
        "id": "0AOEiRAex3tm"
      }
    },
    {
      "cell_type": "code",
      "source": [
        "# Train the model\n",
        "trainer.train()\n"
      ],
      "metadata": {
        "colab": {
          "base_uri": "https://localhost:8080/",
          "height": 188
        },
        "id": "G61PZ29Cx6-L",
        "outputId": "477f2f2f-8243-4cfd-ca64-cec723a66171"
      },
      "execution_count": 17,
      "outputs": [
        {
          "output_type": "display_data",
          "data": {
            "text/plain": [
              "<IPython.core.display.HTML object>"
            ],
            "text/html": [
              "\n",
              "    <div>\n",
              "      \n",
              "      <progress value='5626' max='5626' style='width:300px; height:20px; vertical-align: middle;'></progress>\n",
              "      [5626/5626 1:12:37, Epoch 2/2]\n",
              "    </div>\n",
              "    <table border=\"1\" class=\"dataframe\">\n",
              "  <thead>\n",
              " <tr style=\"text-align: left;\">\n",
              "      <th>Epoch</th>\n",
              "      <th>Training Loss</th>\n",
              "      <th>Validation Loss</th>\n",
              "      <th>Accuracy</th>\n",
              "      <th>F1</th>\n",
              "      <th>Precision</th>\n",
              "      <th>Recall</th>\n",
              "    </tr>\n",
              "  </thead>\n",
              "  <tbody>\n",
              "    <tr>\n",
              "      <td>1</td>\n",
              "      <td>0.166600</td>\n",
              "      <td>0.232775</td>\n",
              "      <td>0.933600</td>\n",
              "      <td>0.934646</td>\n",
              "      <td>0.930980</td>\n",
              "      <td>0.938340</td>\n",
              "    </tr>\n",
              "    <tr>\n",
              "      <td>2</td>\n",
              "      <td>0.200200</td>\n",
              "      <td>0.258734</td>\n",
              "      <td>0.940000</td>\n",
              "      <td>0.940805</td>\n",
              "      <td>0.939322</td>\n",
              "      <td>0.942292</td>\n",
              "    </tr>\n",
              "  </tbody>\n",
              "</table><p>"
            ]
          },
          "metadata": {}
        },
        {
          "output_type": "execute_result",
          "data": {
            "text/plain": [
              "TrainOutput(global_step=5626, training_loss=0.22403258316856509, metrics={'train_runtime': 4359.9804, 'train_samples_per_second': 10.321, 'train_steps_per_second': 1.29, 'total_flos': 1.18399974912e+16, 'train_loss': 0.22403258316856509, 'epoch': 2.0})"
            ]
          },
          "metadata": {},
          "execution_count": 17
        }
      ]
    },
    {
      "cell_type": "markdown",
      "source": [
        "### Training Loss Curve\n",
        "This plot visualizes how the training loss decreased over time as the model learned from the data.\n",
        "\n",
        "A downward trend in the loss indicates that the model is improving during training.\n",
        "\n",
        "It helps evaluate whether the model is converging and if the training process was stable."
      ],
      "metadata": {
        "id": "oOMrQcHuST8y"
      }
    },
    {
      "cell_type": "code",
      "source": [
        "# Extract loss values from trainer state log history\n",
        "log_history = trainer.state.log_history\n",
        "\n",
        "# Get training steps and corresponding losses\n",
        "train_steps = [entry[\"step\"] for entry in log_history if \"loss\" in entry]\n",
        "train_losses = [entry[\"loss\"] for entry in log_history if \"loss\" in entry]\n",
        "\n",
        "# Plot the training loss curve\n",
        "plt.figure(figsize=(8, 5))\n",
        "plt.plot(train_steps, train_losses, marker='o')\n",
        "plt.title(\"Training Loss Curve\")\n",
        "plt.xlabel(\"Training Steps\")\n",
        "plt.ylabel(\"Loss\")\n",
        "plt.grid(True)\n",
        "plt.tight_layout()\n",
        "plt.show()\n"
      ],
      "metadata": {
        "colab": {
          "base_uri": "https://localhost:8080/",
          "height": 507
        },
        "id": "jIrju6GJSomA",
        "outputId": "79a04675-a8bc-4713-da0b-ac0b1ef29e43"
      },
      "execution_count": 18,
      "outputs": [
        {
          "output_type": "display_data",
          "data": {
            "text/plain": [
              "<Figure size 800x500 with 1 Axes>"
            ],
            "image/png": "[encoded data removed]"
          },
          "metadata": {}
        }
      ]
    },
    {
      "cell_type": "markdown",
      "source": [
        "## Evaluating the Fine-Tuned BERT LLM\n",
        "After training, evaluate the performance of fine-tuned BERT model using metrics: accuracy, F1 score, precision, and recall.\n",
        "\n",
        "These metrics help to understand how well the model generalizes to unseen data."
      ],
      "metadata": {
        "id": "tTEVE55iH9m3"
      }
    },
    {
      "cell_type": "code",
      "source": [
        "# Evaluate model on the validation set\n",
        "eval_results = trainer.evaluate()\n",
        "print(\"Evaluation Results:\")\n",
        "for key, value in eval_results.items():\n",
        "    print(f\"{key}: {value:.4f}\")\n"
      ],
      "metadata": {
        "colab": {
          "base_uri": "https://localhost:8080/",
          "height": 207
        },
        "id": "qrrQxeh7J5eq",
        "outputId": "15506900-0157-40c3-fc2c-d2f74b436931"
      },
      "execution_count": 19,
      "outputs": [
        {
          "output_type": "display_data",
          "data": {
            "text/plain": [
              "<IPython.core.display.HTML object>"
            ],
            "text/html": [
              "\n",
              "    <div>\n",
              "      \n",
              "      <progress value='313' max='313' style='width:300px; height:20px; vertical-align: middle;'></progress>\n",
              "      [313/313 01:09]\n",
              "    </div>\n",
              "    "
            ]
          },
          "metadata": {}
        },
        {
          "output_type": "stream",
          "name": "stdout",
          "text": [
            "Evaluation Results:\n",
            "eval_loss: 0.2587\n",
            "eval_accuracy: 0.9400\n",
            "eval_f1: 0.9408\n",
            "eval_precision: 0.9393\n",
            "eval_recall: 0.9423\n",
            "eval_runtime: 69.8254\n",
            "eval_samples_per_second: 35.8040\n",
            "eval_steps_per_second: 4.4830\n",
            "epoch: 2.0000\n"
          ]
        }
      ]
    },
    {
      "cell_type": "markdown",
      "source": [
        "## Evaluate Model Predictions on Validation Set\n",
        "To assess the fine-tuned model’s performance, I run predictions on the evaluation dataset.\n",
        "The predicted labels are extracted from the model’s output logits and compared with the ground truth labels.\n",
        "These predictions are used to compute evaluation metrics and generate visualizations.\n",
        "\n"
      ],
      "metadata": {
        "id": "24r8BF-PP_Zc"
      }
    },
    {
      "cell_type": "code",
      "source": [
        "# Run prediction on the evaluation set\n",
        "predictions = trainer.predict(eval_dataset)\n",
        "\n",
        "# Extract predicted and true labels\n",
        "y_preds = np.argmax(predictions.predictions, axis=1)\n",
        "y_true = predictions.label_ids\n",
        "\n",
        "# Confirmation message\n",
        "print(\"✅ Model predictions on the evaluation set completed.\")\n"
      ],
      "metadata": {
        "colab": {
          "base_uri": "https://localhost:8080/",
          "height": 34
        },
        "id": "kHrULtfhQMOY",
        "outputId": "4b3d1478-28b2-4775-c2cb-3162a670615c"
      },
      "execution_count": 23,
      "outputs": [
        {
          "output_type": "display_data",
          "data": {
            "text/plain": [
              "<IPython.core.display.HTML object>"
            ],
            "text/html": []
          },
          "metadata": {}
        },
        {
          "output_type": "stream",
          "name": "stdout",
          "text": [
            "✅ Model predictions on the evaluation set completed.\n"
          ]
        }
      ]
    },
    {
      "cell_type": "markdown",
      "source": [
        "### Bar-chart for Evaluation Metrics"
      ],
      "metadata": {
        "id": "iylXli5TLbdp"
      }
    },
    {
      "cell_type": "code",
      "source": [
        "# Compute scores\n",
        "acc = accuracy_score(y_true, y_preds)\n",
        "f1 = f1_score(y_true, y_preds)\n",
        "precision = precision_score(y_true, y_preds)\n",
        "recall = recall_score(y_true, y_preds)\n",
        "\n",
        "# Plot\n",
        "plt.figure(figsize=(8, 5))\n",
        "plt.bar([\"Accuracy\", \"F1 Score\", \"Precision\", \"Recall\"], [acc, f1, precision, recall])\n",
        "plt.ylim(0.8, 1.0)\n",
        "plt.title(\"Evaluation Metrics from Predictions\")\n",
        "plt.ylabel(\"Score\")\n",
        "plt.grid(axis='y')\n",
        "plt.show()"
      ],
      "metadata": {
        "colab": {
          "base_uri": "https://localhost:8080/",
          "height": 468
        },
        "id": "8afNmHmnM4a2",
        "outputId": "e1bd8945-c78c-4a73-9aca-72e7efe1674b"
      },
      "execution_count": 24,
      "outputs": [
        {
          "output_type": "display_data",
          "data": {
            "text/plain": [
              "<Figure size 800x500 with 1 Axes>"
            ],
            "image/png": "[encoded data removed]"
          },
          "metadata": {}
        }
      ]
    },
    {
      "cell_type": "markdown",
      "source": [
        "### Confusion Matrix\n",
        "\n",
        "To see how the model is making errors."
      ],
      "metadata": {
        "id": "2Ld7qMjUNpkm"
      }
    },
    {
      "cell_type": "code",
      "source": [
        "# Generate confusion matrix\n",
        "cm = confusion_matrix(y_true, y_preds)\n",
        "disp = ConfusionMatrixDisplay(confusion_matrix=cm, display_labels=[\"Negative\", \"Positive\"])\n",
        "disp.plot(cmap=\"Blues\")\n",
        "plt.title(\"Confusion Matrix\")\n",
        "plt.show()"
      ],
      "metadata": {
        "colab": {
          "base_uri": "https://localhost:8080/",
          "height": 472
        },
        "id": "7RYP9yCVNus9",
        "outputId": "2aa65e7c-4347-4ede-fbf9-6a40df9ceb61"
      },
      "execution_count": 25,
      "outputs": [
        {
          "output_type": "display_data",
          "data": {
            "text/plain": [
              "<Figure size 640x480 with 2 Axes>"
            ],
            "image/png": "[encoded data removed]"
          },
          "metadata": {}
        }
      ]
    },
    {
      "cell_type": "markdown",
      "source": [
        "# Sample Predictions on Evaluation Data\n",
        "\n",
        "To better understand how the fine-tuned BERT model performs, visualize predictions on a few random samples from the evaluation set.\n",
        "\n",
        "Each sample shows the beginning of a review, the actual sentiment label, and the predicted label generated by the model.\n"
      ],
      "metadata": {
        "id": "g-NmuYaUV3LW"
      }
    },
    {
      "cell_type": "code",
      "source": [
        "# Separate positive and negative samples\n",
        "positive_idxs = [i for i, d in enumerate(dataset[\"test\"]) if d[\"label\"] == 1]\n",
        "negative_idxs = [i for i, d in enumerate(dataset[\"test\"]) if d[\"label\"] == 0]\n",
        "\n",
        "# Take 2 samples from each\n",
        "sampled_idxs = sample(positive_idxs, 2) + sample(negative_idxs, 2)\n",
        "\n",
        "print(\"Sample predictions on evaluation set (balanced):\\n\")\n",
        "\n",
        "for idx in sampled_idxs:\n",
        "    text = dataset[\"test\"][idx][\"text\"]\n",
        "    true_label = dataset[\"test\"][idx][\"label\"]\n",
        "\n",
        "    # Tokenize and move to correct device\n",
        "    inputs = tokenizer(text, return_tensors=\"pt\", truncation=True, padding=True, max_length=512)\n",
        "    inputs = {k: v.to(model.device) for k, v in inputs.items()}\n",
        "\n",
        "    with torch.no_grad():\n",
        "        outputs = model(**inputs)\n",
        "        probs = torch.nn.functional.softmax(outputs.logits, dim=1)\n",
        "        pred = torch.argmax(probs, dim=1).item()\n",
        "\n",
        "    label_str = lambda x: f\"{x} ({'Positive' if x == 1 else 'Negative'})\"\n",
        "\n",
        "    print(f\"Review: {text[:100]}...\")\n",
        "    print(f\"True Label: {label_str(true_label)} | Predicted Label: {label_str(pred)}\\n\")\n"
      ],
      "metadata": {
        "colab": {
          "base_uri": "https://localhost:8080/"
        },
        "id": "KNny2jVkV2X4",
        "outputId": "11b1e662-cff6-4872-c36d-0f2a0173d16e"
      },
      "execution_count": 26,
      "outputs": [
        {
          "output_type": "stream",
          "name": "stdout",
          "text": [
            "Sample predictions on evaluation set (balanced):\n",
            "\n",
            "Review: amazing movie. Some of the script writing could have been better (some cliched language). Joyce's \"T...\n",
            "True Label: 1 (Positive) | Predicted Label: 1 (Positive)\n",
            "\n",
            "Review: Okay, so I love silly movies. If you enjoy silly sci-fi movies, over the top movies, or if you are a...\n",
            "True Label: 1 (Positive) | Predicted Label: 1 (Positive)\n",
            "\n",
            "Review: Okul\"The School\" is a result of a new trend in Turkish cinema. Having used the same stories over and...\n",
            "True Label: 0 (Negative) | Predicted Label: 0 (Negative)\n",
            "\n",
            "Review: I thought that this movie might be a good spoof, or at least a good independent comedy like Friday. ...\n",
            "True Label: 0 (Negative) | Predicted Label: 0 (Negative)\n",
            "\n"
          ]
        }
      ]
    },
    {
      "cell_type": "markdown",
      "source": [
        "## Predict Sentiment Using Fine-Tuned BERT Model\n",
        "After training, the model can be tested by passing a custom input text to see if it correctly predicts the sentiment.\n",
        "\n",
        "The input is tokenized and passed through the model, and the predicted sentiment (positive or negative) is returned based on the model's output logits."
      ],
      "metadata": {
        "id": "9CqeDUvDKgvI"
      }
    },
    {
      "cell_type": "code",
      "source": [
        "def predict_sentiment(text):\n",
        "    # Tokenize input text\n",
        "    inputs = tokenizer(text, return_tensors=\"pt\", truncation=True, padding=True, max_length=512)\n",
        "\n",
        "    # Move inputs to same device as model\n",
        "    device = model.device\n",
        "    inputs = {key: val.to(device) for key, val in inputs.items()}\n",
        "\n",
        "    # Put model in evaluation mode and disable gradient tracking\n",
        "    model.eval()\n",
        "    with torch.no_grad():\n",
        "        outputs = model(**inputs)\n",
        "\n",
        "    # Get predicted class\n",
        "    logits = outputs.logits\n",
        "    predicted_class = torch.argmax(logits, dim=1).item()\n",
        "\n",
        "    # Map to label\n",
        "    label = \"Positive\" if predicted_class == 1 else \"Negative\"\n",
        "    print(f\"Predicted Sentiment: {label}\")\n"
      ],
      "metadata": {
        "id": "eX8Slw77TS2Y"
      },
      "execution_count": 27,
      "outputs": []
    },
    {
      "cell_type": "code",
      "source": [
        "predict_sentiment(\"The movie was absolutely amazing and thrilling!\")\n"
      ],
      "metadata": {
        "colab": {
          "base_uri": "https://localhost:8080/"
        },
        "id": "Y2cymdYgTZd4",
        "outputId": "8beb2f3a-75ad-4b8d-d48a-f0eae04f57fd"
      },
      "execution_count": 28,
      "outputs": [
        {
          "output_type": "stream",
          "name": "stdout",
          "text": [
            "Predicted Sentiment: Positive\n"
          ]
        }
      ]
    },
    {
      "cell_type": "markdown",
      "source": [
        "# Final Model Summary\n",
        "\n",
        "The BERT model (`bert-base-uncased`) was fine-tuned on the IMDb sentiment analysis dataset.\n",
        "\n",
        "-  Achieved **~93.2% accuracy** and **~92.8% F1 score** on the evaluation set.\n",
        "- Training was completed over **2 epochs**, using `Trainer` API from Hugging Face.\n",
        "- Additional evaluation metrics like **precision**, **recall**, and **confusion matrix** were computed and visualized.\n",
        "- The training loss curve showed a stable decrease, indicating good convergence.\n",
        "- Sample predictions on evaluation data were displayed to demonstrate model behavior.\n",
        "\n",
        "This notebook demonstrates how **Large Language Models (LLMs)** like BERT can be adapted and fine-tuned for binary text classification tasks.\n"
      ],
      "metadata": {
        "id": "s-2o7aRJXql-"
      }
    }
  ]
}