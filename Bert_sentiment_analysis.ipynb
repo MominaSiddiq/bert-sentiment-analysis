{
  "nbformat": 4,
  "nbformat_minor": 0,
  "metadata": {
    "colab": {
      "provenance": [],
      "authorship_tag": "ABX9TyN7yo4ZmY/Wa9DumRUPbQVR",
      "include_colab_link": true
    },
    "kernelspec": {
      "name": "python3",
      "display_name": "Python 3"
    },
    "language_info": {
      "name": "python"
    }
  },
  "cells": [
    {
      "cell_type": "markdown",
      "metadata": {
        "id": "view-in-github",
        "colab_type": "text"
      },
      "source": [
        "<a href=\"https://colab.research.google.com/github/MominaSiddiq/bert-sentiment-analysis/blob/main/Bert_sentiment_analysis.ipynb\" target=\"_parent\"><img src=\"https://colab.research.google.com/assets/colab-badge.svg\" alt=\"Open In Colab\"/></a>"
      ]
    },
    {
      "cell_type": "markdown",
      "source": [
        "# Installation"
      ],
      "metadata": {
        "id": "Puz7VpXXUP_c"
      }
    },
    {
      "cell_type": "code",
      "execution_count": null,
      "metadata": {
        "id": "jR0rRi-URYxt"
      },
      "outputs": [],
      "source": [
        "# Install Hugging Face Transformers and Datasets libraries\n",
        "!pip install -q transformers datasets accelerate\n",
        "\n"
      ]
    },
    {
      "cell_type": "code",
      "source": [
        "# Fix for dataset loading issue: upgrade fsspec to latest version\n",
        "!pip install -U fsspec==2023.6.0\n",
        "\n"
      ],
      "metadata": {
        "id": "cFNf3F9NV3rn"
      },
      "execution_count": null,
      "outputs": []
    },
    {
      "cell_type": "markdown",
      "source": [
        "# Imports\n"
      ],
      "metadata": {
        "id": "a_HwIXrKUWQv"
      }
    },
    {
      "cell_type": "code",
      "source": [
        "# Import essential libraries for working with transformers and datasets\n",
        "from datasets import load_dataset                    # For loading the IMDb dataset\n",
        "from transformers import (BertTokenizer,             # Tokenizer for BERT\n",
        "                          BertForSequenceClassification,  # Pretrained BERT model for sentiment classification\n",
        "                          Trainer,                   # Trainer handles the training loop\n",
        "                          TrainingArguments)         # Used to define training configurations\n",
        "import torch                                          # PyTorch backend\n"
      ],
      "metadata": {
        "id": "l8qt-M-RUGLn"
      },
      "execution_count": null,
      "outputs": []
    },
    {
      "cell_type": "markdown",
      "source": [
        "# Load IMDb Dataset\n",
        "\n",
        "Load the IMDb movie reviews dataset using Hugging Face's `datasets` library. This dataset contains 25,000 labeled movie reviews for training and 25,000 for testing, with binary sentiment labels: `0` for negative, and `1` for positive.\n"
      ],
      "metadata": {
        "id": "2tP9HrFBUdwL"
      }
    },
    {
      "cell_type": "code",
      "source": [
        "# Load the IMDb dataset from Hugging Face\n",
        "# The dataset contains 25,000 training and 25,000 test examples\n",
        "dataset = load_dataset(\"imdb\")\n",
        "\n",
        "# Display the dataset structure\n",
        "print(dataset)\n"
      ],
      "metadata": {
        "colab": {
          "base_uri": "https://localhost:8080/"
        },
        "id": "XfmtALKzUzlU",
        "outputId": "ec4f97e0-0f9a-4f2e-ea89-0f5bf5c71595"
      },
      "execution_count": 8,
      "outputs": [
        {
          "output_type": "stream",
          "name": "stdout",
          "text": [
            "DatasetDict({\n",
            "    test: Dataset({\n",
            "        features: ['text', 'label'],\n",
            "        num_rows: 25000\n",
            "    })\n",
            "    train: Dataset({\n",
            "        features: ['text', 'label'],\n",
            "        num_rows: 25000\n",
            "    })\n",
            "    unsupervised: Dataset({\n",
            "        features: ['text', 'label'],\n",
            "        num_rows: 50000\n",
            "    })\n",
            "})\n"
          ]
        }
      ]
    },
    {
      "cell_type": "markdown",
      "source": [
        "# Printed Sample\n",
        "\n",
        "Below, a positive and a negative example from the dataset is printed to better understand the data.\n"
      ],
      "metadata": {
        "id": "GGnh7_irY9Z7"
      }
    },
    {
      "cell_type": "code",
      "source": [
        "# Instead of printing full text, just show first 300 characters\n",
        "print(\"Sample Negative Review:\\n\")  # Show a sample of negitive review\n",
        "print(dataset['train'][0]['text'][:300])\n",
        "print(\"Label:\", dataset['train'][0]['label'])\n",
        "\n",
        "print(\"\\nSample Positive Review:\\n\") # Show a sample of positive review\n",
        "print(dataset['train'][1]['text'][:300])\n",
        "print(\"Label:\", dataset['train'][1]['label'])\n",
        "\n"
      ],
      "metadata": {
        "colab": {
          "base_uri": "https://localhost:8080/"
        },
        "id": "mbuHGruEZJZ6",
        "outputId": "c3d83655-9d46-4880-a60e-c8b665fcac48"
      },
      "execution_count": 9,
      "outputs": [
        {
          "output_type": "stream",
          "name": "stdout",
          "text": [
            "Sample Negative Review:\n",
            "\n",
            "I rented I AM CURIOUS-YELLOW from my video store because of all the controversy that surrounded it when it was first released in 1967. I also heard that at first it was seized by U.S. customs if it ever tried to enter this country, therefore being a fan of films considered \"controversial\" I really h\n",
            "Label: 0\n",
            "\n",
            "Sample Positive Review:\n",
            "\n",
            "\"I Am Curious: Yellow\" is a risible and pretentious steaming pile. It doesn't matter what one's political views are because this film can hardly be taken seriously on any level. As for the claim that frontal male nudity is an automatic NC-17, that isn't true. I've seen R-rated films with male nudity\n",
            "Label: 0\n"
          ]
        }
      ]
    }
  ]
}